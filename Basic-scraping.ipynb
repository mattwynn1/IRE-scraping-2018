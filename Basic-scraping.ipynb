{
 "cells": [
  {
   "cell_type": "markdown",
   "metadata": {},
   "source": [
    "# Scraping FDA Warnings"
   ]
  },
  {
   "cell_type": "markdown",
   "metadata": {},
   "source": [
    "Web scraping is the process of grabbing information off the internet. While it's powerful, it's also complex; just as all websites look and act differently, there's no one-size-fits-all solution to making it happen. \n",
    "\n",
    "Today we'll be going over some basic concepts while using the [FDA's Warning Letters](https://www.fda.gov/ICECI/EnforcementActions/WarningLetters/2018/default.htm). We'll start by grabbing the data so far this year. If time allows, we'll grab ALL of them, stretching back six years.\n",
    "\n",
    "To start out with, we're going to grab three libraries that will help us through this process:"
   ]
  },
  {
   "cell_type": "code",
   "execution_count": null,
   "metadata": {
    "scrolled": true
   },
   "outputs": [],
   "source": [
    "import requests\n",
    "from bs4 import *\n",
    "import csv"
   ]
  },
  {
   "cell_type": "markdown",
   "metadata": {},
   "source": [
    "### WTF was that\n",
    "Python is a programming language, no better or worse than Ruby, PHP, Perl or anything else. We're using it because it's pretty intuitive, and, well, it's what I'm best at. One of the great parts about Python is that there are a lot of handy tools already made for it by people much smarter than us. All we have to do is bring them in, which we do with the handy `import` command.\n",
    "\n",
    "In this case, we're bringing in three libraries:\n",
    "    * [`requests`](http://docs.python-requests.org/en/master/) is a handy third-party library for making HTTP requests. It does the same thing your browser does when you type in a URL and hit enter -- sends a message to a server and requests a copy of the page. We'll use it to get Python the right pages to scrape.\n",
    "    * [`BeautifulSoup`](https://www.crummy.com/software/BeautifulSoup/bs4/doc/) is a library you can use to parse HTML into data types that Python can work with. We'll use it to grab the contents of the page we want.\n",
    "    * [`csv`](https://docs.python.org/2/library/csv.html) is a built-in library that reads and writes csv, which is of course God's chosen data format. Here, we'll be using it to spit out a csv for analysis."
   ]
  },
  {
   "cell_type": "code",
   "execution_count": null,
   "metadata": {},
   "outputs": [],
   "source": [
    "url = \"https://www.fda.gov/ICECI/EnforcementActions/WarningLetters/2018/default.htm\"\n",
    "response = requests.get(url)\n",
    "html = response.content\n",
    "soup = BeautifulSoup(html, \"lxml\")\n",
    "table = soup.find('table')"
   ]
  },
  {
   "cell_type": "markdown",
   "metadata": {},
   "source": [
    "### Requests and BeautifulSoup, brothers in arms\n"
   ]
  }
 ],
 "metadata": {
  "kernelspec": {
   "display_name": "Python 3",
   "language": "python",
   "name": "python3"
  },
  "language_info": {
   "codemirror_mode": {
    "name": "ipython",
    "version": 3
   },
   "file_extension": ".py",
   "mimetype": "text/x-python",
   "name": "python",
   "nbconvert_exporter": "python",
   "pygments_lexer": "ipython3",
   "version": "3.6.5"
  }
 },
 "nbformat": 4,
 "nbformat_minor": 2
}
